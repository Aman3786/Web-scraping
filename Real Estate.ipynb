{
 "cells": [
  {
   "cell_type": "code",
   "execution_count": 10,
   "id": "1a3fc7d0",
   "metadata": {},
   "outputs": [],
   "source": [
    "import requests\n",
    "from bs4 import BeautifulSoup\n",
    "import pandas as pd\n",
    "import selenium\n",
    "from selenium import webdriver\n",
    "import time\n",
    "import os\n",
    "from selenium import webdriver\n",
    "from selenium.webdriver.support.ui import Select\n",
    "from selenium.webdriver.support.select import Select\n",
    "import csv"
   ]
  },
  {
   "cell_type": "code",
   "execution_count": 11,
   "id": "79e1dd73",
   "metadata": {},
   "outputs": [
    {
     "name": "stderr",
     "output_type": "stream",
     "text": [
      "C:\\Users\\musta\\AppData\\Local\\Temp/ipykernel_12976/60331687.py:2: DeprecationWarning: executable_path has been deprecated, please pass in a Service object\n",
      "  driver = webdriver.Chrome(executable_path=chrome_path)\n"
     ]
    }
   ],
   "source": [
    "chrome_path = r\"Enter the Chromedriver.exe path\"\n",
    "driver = webdriver.Chrome(executable_path=chrome_path)\n",
    "\n",
    "# open the maharera website in selenium chromedriver\n",
    "driver.get(\"https://maharerait.mahaonline.gov.in/searchlist/search\")"
   ]
  },
  {
   "cell_type": "code",
   "execution_count": 12,
   "id": "97871fcd",
   "metadata": {
    "scrolled": false
   },
   "outputs": [
    {
     "name": "stderr",
     "output_type": "stream",
     "text": [
      "C:\\Users\\musta\\AppData\\Local\\Temp/ipykernel_12976/291420205.py:1: DeprecationWarning: find_element_by_* commands are deprecated. Please use find_element() instead\n",
      "  driver.find_element_by_xpath('//*[@id=\"Promoter\"]').click()\n",
      "C:\\Users\\musta\\AppData\\Local\\Temp/ipykernel_12976/291420205.py:2: DeprecationWarning: find_element_by_* commands are deprecated. Please use find_element() instead\n",
      "  driver.find_element_by_xpath('//*[@id=\"btnAdvance\"]').click()\n"
     ]
    }
   ],
   "source": [
    "driver.find_element_by_xpath('//*[@id=\"Promoter\"]').click()\n",
    "driver.find_element_by_xpath('//*[@id=\"btnAdvance\"]').click()\n",
    "\n"
   ]
  },
  {
   "cell_type": "code",
   "execution_count": 13,
   "id": "518917ec",
   "metadata": {},
   "outputs": [
    {
     "name": "stderr",
     "output_type": "stream",
     "text": [
      "C:\\Users\\musta\\AppData\\Local\\Temp/ipykernel_12976/55079381.py:1: DeprecationWarning: find_element_by_* commands are deprecated. Please use find_element() instead\n",
      "  State= Select(driver.find_element_by_id('State'))\n",
      "C:\\Users\\musta\\AppData\\Local\\Temp/ipykernel_12976/55079381.py:5: DeprecationWarning: find_element_by_* commands are deprecated. Please use find_element() instead\n",
      "  District = Select(driver.find_element_by_id('District'))\n"
     ]
    }
   ],
   "source": [
    "# Enter the State & district\n",
    "\n",
    "State= Select(driver.find_element_by_id('State'))\n",
    "State.select_by_visible_text('MAHARASHTRA')\n",
    "\n",
    "\n",
    "District = Select(driver.find_element_by_id('District'))\n",
    "District.select_by_visible_text('Palghar')\n"
   ]
  },
  {
   "cell_type": "code",
   "execution_count": 14,
   "id": "917f787f",
   "metadata": {},
   "outputs": [
    {
     "name": "stderr",
     "output_type": "stream",
     "text": [
      "C:\\Users\\musta\\AppData\\Local\\Temp/ipykernel_12976/1126846252.py:1: DeprecationWarning: find_element_by_* commands are deprecated. Please use find_element() instead\n",
      "  Project_Type = Select(driver.find_element_by_id('PType'))\n",
      "C:\\Users\\musta\\AppData\\Local\\Temp/ipykernel_12976/1126846252.py:5: DeprecationWarning: find_element_by_* commands are deprecated. Please use find_element() instead\n",
      "  driver.find_element_by_xpath('//*[@id=\"btnSearch\"]').click()\n"
     ]
    }
   ],
   "source": [
    "# Enter the project Type & Residential OR commercial apartment\n",
    "\n",
    "Project_Type = Select(driver.find_element_by_id('PType'))\n",
    "Project_Type.select_by_visible_text('Residential')\n",
    "\n",
    "driver.find_element_by_xpath('//*[@id=\"btnSearch\"]').click()"
   ]
  },
  {
   "cell_type": "code",
   "execution_count": 16,
   "id": "904784fe",
   "metadata": {},
   "outputs": [],
   "source": [
    "li = []"
   ]
  },
  {
   "cell_type": "code",
   "execution_count": 17,
   "id": "d6318c0c",
   "metadata": {
    "scrolled": true
   },
   "outputs": [
    {
     "name": "stderr",
     "output_type": "stream",
     "text": [
      "C:\\Users\\musta\\AppData\\Local\\Temp/ipykernel_12976/1631362992.py:2: DeprecationWarning: find_element_by_* commands are deprecated. Please use find_element() instead\n",
      "  nextt = driver.find_element_by_xpath('//*[@id=\"btnNext\"]')\n",
      "C:\\Users\\musta\\AppData\\Local\\Temp/ipykernel_12976/1631362992.py:16: DeprecationWarning: find_elements_by_* commands are deprecated. Please use find_elements() instead\n",
      "  View = driver.find_elements_by_class_name(\"grid-row\")\n",
      "C:\\Users\\musta\\AppData\\Local\\Temp/ipykernel_12976/1631362992.py:22: DeprecationWarning: find_element_by_* commands are deprecated. Please use find_element() instead\n",
      "  nextt = driver.find_element_by_xpath('//*[@id=\"btnNext\"]')\n"
     ]
    },
    {
     "name": "stdout",
     "output_type": "stream",
     "text": [
      "<selenium.webdriver.remote.webelement.WebElement (session=\"1a13e828f3b4078f32a8fa3b9e92cd4f\", element=\"bc00a500-9325-4d05-add9-956531b7c3d8\")>\n",
      "<selenium.webdriver.remote.webelement.WebElement (session=\"1a13e828f3b4078f32a8fa3b9e92cd4f\", element=\"f7162d28-17ee-47a5-8811-8a35349d3045\")>\n",
      "<selenium.webdriver.remote.webelement.WebElement (session=\"1a13e828f3b4078f32a8fa3b9e92cd4f\", element=\"cdfe9502-a062-42f8-b590-137b60b41ef8\")>\n",
      "<selenium.webdriver.remote.webelement.WebElement (session=\"1a13e828f3b4078f32a8fa3b9e92cd4f\", element=\"907d2b06-c685-42a8-ad3d-f0113e96452d\")>\n",
      "<selenium.webdriver.remote.webelement.WebElement (session=\"1a13e828f3b4078f32a8fa3b9e92cd4f\", element=\"ac89ac87-8235-4cab-b8c6-d06346527330\")>\n",
      "<selenium.webdriver.remote.webelement.WebElement (session=\"1a13e828f3b4078f32a8fa3b9e92cd4f\", element=\"8ab6d71d-c175-4f91-9ab5-52190cc1b5c6\")>\n",
      "<selenium.webdriver.remote.webelement.WebElement (session=\"1a13e828f3b4078f32a8fa3b9e92cd4f\", element=\"a1a932ac-3ce8-48f1-ba0a-d024f8ec6dab\")>\n",
      "<selenium.webdriver.remote.webelement.WebElement (session=\"1a13e828f3b4078f32a8fa3b9e92cd4f\", element=\"bcae4437-496e-4bd1-9601-c56604e98b43\")>\n",
      "<selenium.webdriver.remote.webelement.WebElement (session=\"1a13e828f3b4078f32a8fa3b9e92cd4f\", element=\"0adf8e68-326f-4ee4-a789-49245dfe1280\")>\n",
      "<selenium.webdriver.remote.webelement.WebElement (session=\"1a13e828f3b4078f32a8fa3b9e92cd4f\", element=\"6594174b-5e4f-4840-bce1-c1ee0511e375\")>\n",
      "<selenium.webdriver.remote.webelement.WebElement (session=\"1a13e828f3b4078f32a8fa3b9e92cd4f\", element=\"8cd86b78-844c-48b1-b6c6-f0018c7e73af\")>\n",
      "<selenium.webdriver.remote.webelement.WebElement (session=\"1a13e828f3b4078f32a8fa3b9e92cd4f\", element=\"6892bceb-a623-4ef0-b984-d599e266a1d1\")>\n",
      "<selenium.webdriver.remote.webelement.WebElement (session=\"1a13e828f3b4078f32a8fa3b9e92cd4f\", element=\"9d71ede2-462b-4ea4-a863-ef9b0f58ac9b\")>\n",
      "<selenium.webdriver.remote.webelement.WebElement (session=\"1a13e828f3b4078f32a8fa3b9e92cd4f\", element=\"1417f902-e815-42e8-b3b1-9cdbeba3196a\")>\n",
      "<selenium.webdriver.remote.webelement.WebElement (session=\"1a13e828f3b4078f32a8fa3b9e92cd4f\", element=\"677f68f8-e3da-413d-8928-6d673b2476e4\")>\n",
      "<selenium.webdriver.remote.webelement.WebElement (session=\"1a13e828f3b4078f32a8fa3b9e92cd4f\", element=\"f726583d-dd92-4207-ad2a-a4624fc7621a\")>\n",
      "<selenium.webdriver.remote.webelement.WebElement (session=\"1a13e828f3b4078f32a8fa3b9e92cd4f\", element=\"31e868c2-0e04-410a-9846-f3facc8588da\")>\n",
      "<selenium.webdriver.remote.webelement.WebElement (session=\"1a13e828f3b4078f32a8fa3b9e92cd4f\", element=\"2806e7d2-0975-446c-b491-790fe952e723\")>\n",
      "<selenium.webdriver.remote.webelement.WebElement (session=\"1a13e828f3b4078f32a8fa3b9e92cd4f\", element=\"09c6f44a-7f09-46eb-be77-39f4117766ad\")>\n",
      "<selenium.webdriver.remote.webelement.WebElement (session=\"1a13e828f3b4078f32a8fa3b9e92cd4f\", element=\"ab522095-b474-4e4c-989e-aee2b3b897f1\")>\n",
      "<selenium.webdriver.remote.webelement.WebElement (session=\"1a13e828f3b4078f32a8fa3b9e92cd4f\", element=\"ebe516db-2b21-41f1-b785-a35a43c3e2bd\")>\n",
      "<selenium.webdriver.remote.webelement.WebElement (session=\"1a13e828f3b4078f32a8fa3b9e92cd4f\", element=\"79147ddb-0723-4dd0-9860-ad1f863a76e9\")>\n",
      "<selenium.webdriver.remote.webelement.WebElement (session=\"1a13e828f3b4078f32a8fa3b9e92cd4f\", element=\"01139aec-cf49-4899-a5ab-722e12115816\")>\n",
      "<selenium.webdriver.remote.webelement.WebElement (session=\"1a13e828f3b4078f32a8fa3b9e92cd4f\", element=\"6fc42d1f-3c06-40b1-9a2d-5cc8e0ee7933\")>\n",
      "<selenium.webdriver.remote.webelement.WebElement (session=\"1a13e828f3b4078f32a8fa3b9e92cd4f\", element=\"1513341b-0351-4273-923b-59b07ee6e107\")>\n",
      "<selenium.webdriver.remote.webelement.WebElement (session=\"1a13e828f3b4078f32a8fa3b9e92cd4f\", element=\"77ba9884-8463-4fa3-8dd5-9b7b774c9d73\")>\n",
      "<selenium.webdriver.remote.webelement.WebElement (session=\"1a13e828f3b4078f32a8fa3b9e92cd4f\", element=\"d90bbddf-4ee5-4805-97ca-c8602b261632\")>\n",
      "<selenium.webdriver.remote.webelement.WebElement (session=\"1a13e828f3b4078f32a8fa3b9e92cd4f\", element=\"6d2edfd5-ac59-42eb-857b-ace0a21f4aef\")>\n",
      "<selenium.webdriver.remote.webelement.WebElement (session=\"1a13e828f3b4078f32a8fa3b9e92cd4f\", element=\"0de00fab-5cd3-4e1f-a9e8-5280b8216a74\")>\n",
      "None\n"
     ]
    }
   ],
   "source": [
    "try:\n",
    "    nextt = driver.find_element_by_xpath('//*[@id=\"btnNext\"]')\n",
    "except:\n",
    "    nextt = None\n",
    "\n",
    "if nextt == None:\n",
    "    \n",
    "    View = driver.find_elements_by_class_name('grid-row')\n",
    "    for i in View:\n",
    "        link = i.find_element_by_tag_name('a')\n",
    "        li.append(link.get_attribute('href'))\n",
    "        \n",
    "else:   \n",
    "    while nextt:\n",
    "        \n",
    "        View = driver.find_elements_by_class_name(\"grid-row\")\n",
    "        for i in View:\n",
    "            link = i.find_element_by_tag_name('a')\n",
    "            li.append(link.get_attribute('href'))\n",
    "        time.sleep(0.5)\n",
    "        try:\n",
    "            nextt = driver.find_element_by_xpath('//*[@id=\"btnNext\"]')\n",
    "            try:\n",
    "                disable = nextt.get_attribute('disabled')\n",
    "            except:\n",
    "                disable = None\n",
    "        except:\n",
    "            nextt = None\n",
    "\n",
    "        if nextt and not disable:\n",
    "            nextt.click()\n",
    "            time.sleep(0.5)\n",
    "        else:\n",
    "            nextt= None\n",
    "        print(nextt)"
   ]
  },
  {
   "cell_type": "code",
   "execution_count": 19,
   "id": "9e8b3a60",
   "metadata": {},
   "outputs": [
    {
     "name": "stdout",
     "output_type": "stream",
     "text": [
      "1324\n",
      "1325\n",
      "1326\n",
      "1327\n",
      "1328\n",
      "1329\n",
      "1330\n",
      "1331\n",
      "1332\n",
      "1333\n",
      "1334\n",
      "1335\n",
      "1336\n",
      "1337\n",
      "1338\n",
      "1339\n",
      "1340\n",
      "1341\n",
      "1342\n",
      "1343\n",
      "1344\n",
      "1345\n",
      "1346\n",
      "1347\n",
      "1348\n",
      "1349\n",
      "1350\n",
      "1351\n",
      "1352\n",
      "1353\n",
      "1354\n",
      "1355\n",
      "1356\n",
      "1357\n",
      "1358\n",
      "1359\n",
      "1360\n",
      "1361\n",
      "1362\n",
      "1363\n",
      "1364\n",
      "1365\n",
      "1366\n",
      "1367\n",
      "1368\n",
      "1369\n",
      "1370\n",
      "1371\n",
      "1372\n",
      "1373\n",
      "1374\n",
      "1375\n",
      "1376\n",
      "1377\n",
      "1378\n",
      "1379\n",
      "1380\n",
      "1381\n",
      "1382\n",
      "1383\n",
      "1384\n",
      "1385\n",
      "1386\n",
      "1387\n",
      "1388\n",
      "1389\n",
      "1390\n",
      "1391\n",
      "1392\n",
      "1393\n",
      "1394\n",
      "1395\n",
      "1396\n",
      "1397\n",
      "1398\n",
      "1399\n",
      "1400\n",
      "1401\n",
      "1402\n",
      "1403\n",
      "1404\n",
      "1405\n",
      "1406\n",
      "1407\n",
      "1408\n",
      "1409\n",
      "1410\n",
      "1411\n",
      "1412\n",
      "1413\n",
      "1414\n",
      "1415\n",
      "1416\n",
      "1417\n",
      "1418\n",
      "1419\n",
      "1420\n",
      "1421\n",
      "1422\n",
      "1423\n",
      "1424\n",
      "1425\n",
      "1426\n",
      "1427\n",
      "1428\n",
      "1429\n",
      "1430\n",
      "1431\n",
      "1432\n",
      "1433\n",
      "1434\n",
      "1435\n",
      "1436\n",
      "1437\n",
      "1438\n",
      "1439\n",
      "1440\n",
      "1441\n",
      "1442\n",
      "1443\n",
      "1444\n",
      "1445\n",
      "1446\n",
      "1447\n",
      "1448\n",
      "1449\n",
      "1450\n",
      "1451\n",
      "1452\n",
      "1453\n",
      "1454\n",
      "1455\n",
      "1456\n",
      "1457\n",
      "1458\n",
      "1459\n",
      "1460\n",
      "1461\n",
      "1462\n"
     ]
    }
   ],
   "source": [
    "key = ['Project Name (Mention as per Sanctioned Plan)','Project Status','Proposed Date of Completion','Revised Proposed Date of Completion','Litigations related to the project ?','Project Type','State/UT','District','Street','Locality','Pin Code']\n",
    "\n",
    "\n",
    "file = r\"C:\\Users\\musta\\OneDrive\\Desktop\\Maharerait\\Palghar.csv\"\n",
    "if not os.path.exists(file):\n",
    "    csv_file = open(file,'w')\n",
    "    csv_writer = csv.writer(csv_file,lineterminator='\\n')\n",
    "    csv_writer.writerow(['Project Name (Mention as per Sanctioned Plan)','Project Status','Proposed Date of Completion','Revised Proposed Date of Completion','Litigations related to the project ?','Project Type','State/UT','District','Street','Locality','Pin Code'])\n",
    "else:\n",
    "    csv_file = open(file,'a')\n",
    "    csv_writer = csv.writer(csv_file,lineterminator='\\n')\n",
    "\n",
    "try:\n",
    "    counter = 1324\n",
    "    for i in li[1323:]:\n",
    "        listt = []\n",
    "        d = {}\n",
    "        session = requests.get(i).text\n",
    "        soup = BeautifulSoup(session,'lxml')\n",
    "        promo = soup.find('div',id='DivPromo')\n",
    "        divtag = promo.find(\"div\",class_=\"x_content label-block\")\n",
    "        Temp_data = divtag.find_all(\"div\",class_=\"col-md-3 col-sm-3\")\n",
    "        for j in Temp_data:\n",
    "            listt.append(j.text.strip())\n",
    "\n",
    "        for k in key:\n",
    "            if k in listt:\n",
    "                ind = listt.index(k)\n",
    "                d[k] = listt[ind+1]\n",
    "            else:\n",
    "                d[k] = None\n",
    "\n",
    "        csv_writer.writerow([d['Project Name (Mention as per Sanctioned Plan)'],d['Project Status'],d['Proposed Date of Completion'],d['Revised Proposed Date of Completion'],d['Litigations related to the project ?'],d['Project Type'],d['State/UT'],d['District'],d['Street'],d['Locality'],d['Pin Code']])\n",
    "        print(counter)\n",
    "        counter+=1\n",
    "    csv_file.close()\n",
    "    \n",
    "except:  \n",
    "    csv_file.close()"
   ]
  }
 ],
 "metadata": {
  "kernelspec": {
   "display_name": "Python 3 (ipykernel)",
   "language": "python",
   "name": "python3"
  },
  "language_info": {
   "codemirror_mode": {
    "name": "ipython",
    "version": 3
   },
   "file_extension": ".py",
   "mimetype": "text/x-python",
   "name": "python",
   "nbconvert_exporter": "python",
   "pygments_lexer": "ipython3",
   "version": "3.10.0"
  }
 },
 "nbformat": 4,
 "nbformat_minor": 5
}
